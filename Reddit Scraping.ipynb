{
 "cells": [
  {
   "cell_type": "code",
   "execution_count": 2,
   "id": "358fe327-0aaf-4784-bc43-b08de3169278",
   "metadata": {},
   "outputs": [],
   "source": [
    "import praw\n",
    "import pandas as pd\n",
    "\n",
    "# Replace with your own credentials\n",
    "reddit = praw.Reddit(\n",
    "    client_id='gA4hAbTzMaoGu1yrb3ClJw',\n",
    "    client_secret='kx7xoVXRVu1NC2bponAWsWPTWRvUkA',\n",
    "    user_agent='Scraping Test'\n",
    ")\n",
    "\n",
    "# Set parameters\n",
    "subreddit_name = \"truegaming\"  \n",
    "search_queries = [\n",
    "    \"Metro 2033\",\n",
    "    \"Rage\"\n",
    "]\n",
    "results = []\n",
    "for query in search_queries:\n",
    "    subreddit = reddit.subreddit(subreddit_name)\n",
    "    for post in subreddit.search(query, sort=\"relevance\", limit=50):\n",
    "        post.comments.replace_more(limit=0)  # flatten all nested replies\n",
    "        all_comments = post.comments.list()  # get every comment at every depth\n",
    "\n",
    "        for comment in all_comments:\n",
    "            results.append({\n",
    "                \"query\": query,\n",
    "                \"post_id\": post.id,\n",
    "                \"post_title\": post.title,\n",
    "                \"comment_id\": comment.id,\n",
    "                \"comment_body\": comment.body,\n",
    "                \"is_reply\": comment.depth > 0,\n",
    "                \"depth\": comment.depth,\n",
    "                \"parent_id\": comment.parent_id\n",
    "            })\n",
    "df = pd.DataFrame(results)"
   ]
  },
  {
   "cell_type": "code",
   "execution_count": 55,
   "id": "12312a2e-dbb3-4bfc-be0d-efdad9c082c1",
   "metadata": {},
   "outputs": [
    {
     "name": "stdout",
     "output_type": "stream",
     "text": [
      "Searching 'sustainability' in r/metro...\n",
      "Searching 'environment' in r/metro...\n",
      "Searching 'resource' in r/metro...\n",
      "Searching 'sustainability' in r/RAGEGame...\n",
      "Searching 'environment' in r/RAGEGame...\n",
      "Searching 'resource' in r/RAGEGame...\n"
     ]
    }
   ],
   "source": [
    "subreddit_names = [\"metro\", \"RAGEGame\"]\n",
    "search_queries = [\"sustainability\", \"environment\", \"resource\"]\n",
    "\n",
    "results = []\n",
    "\n",
    "# Loop over subreddits and search queries\n",
    "for subreddit_name in subreddit_names:\n",
    "    subreddit = reddit.subreddit(subreddit_name)\n",
    "    for query in search_queries:\n",
    "        print(f\"Searching '{query}' in r/{subreddit_name}...\")\n",
    "        for post in subreddit.search(query, sort=\"relevance\", limit=50):\n",
    "            post.comments.replace_more(limit=0)\n",
    "            for comment in post.comments.list():\n",
    "                results.append({\n",
    "                    \"subreddit\": subreddit_name,\n",
    "                    \"query\": query,\n",
    "                    \"post_id\": post.id,\n",
    "                    \"post_title\": post.title,\n",
    "                    \"comment_id\": comment.id,\n",
    "                    \"comment_body\": comment.body,\n",
    "                    \"is_reply\": comment.depth > 0,\n",
    "                    \"depth\": comment.depth,\n",
    "                    \"parent_id\": comment.parent_id\n",
    "                })\n",
    "\n",
    "# Convert to DataFrame and save\n",
    "df2 = pd.DataFrame(results)\n"
   ]
  },
  {
   "cell_type": "code",
   "execution_count": 58,
   "id": "5d6e90ef-8486-4267-89ac-b2102705a790",
   "metadata": {},
   "outputs": [],
   "source": [
    "df.to_csv(\"reddit_comments_from_truegaming.csv\", index=False)\n",
    "df2.to_csv(\"reddit_comments_by_subreddit_and_keyword.csv\", index=False)"
   ]
  }
 ],
 "metadata": {
  "kernelspec": {
   "display_name": "Python 3 (ipykernel)",
   "language": "python",
   "name": "python3"
  },
  "language_info": {
   "codemirror_mode": {
    "name": "ipython",
    "version": 3
   },
   "file_extension": ".py",
   "mimetype": "text/x-python",
   "name": "python",
   "nbconvert_exporter": "python",
   "pygments_lexer": "ipython3",
   "version": "3.10.13"
  }
 },
 "nbformat": 4,
 "nbformat_minor": 5
}
